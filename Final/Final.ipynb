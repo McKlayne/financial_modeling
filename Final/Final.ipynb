{
 "cells": [
  {
   "cell_type": "markdown",
   "metadata": {},
   "source": [
    "Finance 5350, Fall 2019\n",
    "<br>\n",
    "Project 2 Description\n",
    "<br>\n",
    "<br>\n",
    "This example is taken from Chapter 4 of the bookImplementing Derivatives Models by Clewlow and Strickland.  In this project you will price a European call option with the current asset price at 100 and volatility of 20 per cent. The continuously compounded interest rate is assumed to be 6 per cent perannum, the asset pays a continuous dividend yield of 3 per cent per annum.\n",
    "\n",
    "The simulation has 52 time steps and 10,000 simulations; K= 100,T= 1 year,S= 100,σ= 0.2,r= 0.06,δ= 0.03 N= 52, and M= 10,000. Please report the estimated price and standard error for a Naive Monte Carlo method,  an  Antithetic  Monte  Carlo  method,  a  Black-Scholes-based  Delta control  variate  Monte  Carlo  method  combined  with  Antithetic  sampling, and finally for Black-Scholes Delta and Gamma control variates combined with Antithetic sampling.  \n",
    "\n",
    "Create a table in your final report to present and discuss the results.  What do you conclude about efficiency in pricing the option with these various variance reduction methods?"
   ]
  },
  {
   "cell_type": "code",
   "execution_count": 1,
   "metadata": {},
   "outputs": [],
   "source": [
    "import numpy as np\n",
    "import pandas as pd\n",
    "from option import VanillaOption, call_payoff, put_payoff\n",
    "from pricers import naive_monte_carlo_pricer, antithetic_monte_carlo_pricer, black_scholes_delta_anti_control_pricer, black_scholes_delta_gamma_anti_control_pricer"
   ]
  },
  {
   "cell_type": "code",
   "execution_count": 9,
   "metadata": {},
   "outputs": [],
   "source": [
    "spot = 100\n",
    "strike = 100\n",
    "expiry = 1\n",
    "vol = 0.20\n",
    "rate = 0.06\n",
    "div = 0.03\n",
    "steps = 52\n",
    "reps = 10000"
   ]
  },
  {
   "cell_type": "code",
   "execution_count": 10,
   "metadata": {},
   "outputs": [],
   "source": [
    "final_table = {}\n",
    "final_table['Type of Monte Carlo'] = []\n",
    "final_table['Price'] = []\n",
    "final_table['Stderr'] = []"
   ]
  },
  {
   "cell_type": "markdown",
   "metadata": {},
   "source": [
    "### Naive Monte Carlo"
   ]
  },
  {
   "cell_type": "code",
   "execution_count": 11,
   "metadata": {},
   "outputs": [],
   "source": [
    "the_call = VanillaOption(strike, expiry, call_payoff)\n",
    "monte_call = naive_monte_carlo_pricer(the_call, spot, rate, vol, div, reps, steps=1)\n",
    "    \n",
    "final_table['Type of Monte Carlo'].append('Naive')\n",
    "final_table['Price'].append(monte_call.price)\n",
    "final_table['Stderr'].append(monte_call.stderr)"
   ]
  },
  {
   "cell_type": "markdown",
   "metadata": {},
   "source": [
    "### Antithetic Monte Carlo"
   ]
  },
  {
   "cell_type": "code",
   "execution_count": 12,
   "metadata": {},
   "outputs": [],
   "source": [
    "the_call = VanillaOption(strike, expiry, call_payoff)\n",
    "anti_call = antithetic_monte_carlo_pricer(the_call, spot, rate, vol, div, reps, steps)\n",
    "    \n",
    "final_table['Type of Monte Carlo'].append('Antithetic')\n",
    "final_table['Price'].append(anti_call.price)\n",
    "final_table['Stderr'].append(anti_call.stderr)"
   ]
  },
  {
   "cell_type": "markdown",
   "metadata": {},
   "source": [
    "### Black Scholes with Delta Based Variante Control"
   ]
  },
  {
   "cell_type": "code",
   "execution_count": 13,
   "metadata": {},
   "outputs": [],
   "source": [
    "the_call = VanillaOption(strike, expiry, call_payoff)\n",
    "black_delta_anti_call = black_scholes_delta_anti_control_pricer(the_call, spot, rate, vol, div, reps, steps)\n",
    "    \n",
    "final_table['Type of Monte Carlo'].append('Black-Scholes-Based/Delta/Antithetic')\n",
    "final_table['Price'].append(black_delta_anti_call.price)\n",
    "final_table['Stderr'].append(black_delta_anti_call.stderr)"
   ]
  },
  {
   "cell_type": "markdown",
   "metadata": {},
   "source": [
    "### Black Scholes with Delta and Gamma Based Variante Controls"
   ]
  },
  {
   "cell_type": "code",
   "execution_count": 14,
   "metadata": {},
   "outputs": [],
   "source": [
    "the_call = VanillaOption(strike, expiry, call_payoff)\n",
    "black_delta_gamma_anti_call = black_scholes_delta_gamma_anti_control_pricer(the_call, spot, rate, vol, div, reps, steps)\n",
    "    \n",
    "final_table['Type of Monte Carlo'].append('Black-Scholes-Based/Delta + Gamma/Antithetic')\n",
    "final_table['Price'].append(black_delta_gamma_anti_call.price)\n",
    "final_table['Stderr'].append(black_delta_gamma_anti_call.stderr)"
   ]
  },
  {
   "cell_type": "code",
   "execution_count": 16,
   "metadata": {},
   "outputs": [
    {
     "data": {
      "text/html": [
       "<div>\n",
       "<style scoped>\n",
       "    .dataframe tbody tr th:only-of-type {\n",
       "        vertical-align: middle;\n",
       "    }\n",
       "\n",
       "    .dataframe tbody tr th {\n",
       "        vertical-align: top;\n",
       "    }\n",
       "\n",
       "    .dataframe thead th {\n",
       "        text-align: right;\n",
       "    }\n",
       "</style>\n",
       "<table border=\"1\" class=\"dataframe\">\n",
       "  <thead>\n",
       "    <tr style=\"text-align: right;\">\n",
       "      <th></th>\n",
       "      <th>Type of Monte Carlo</th>\n",
       "      <th>Price</th>\n",
       "      <th>Stderr</th>\n",
       "    </tr>\n",
       "  </thead>\n",
       "  <tbody>\n",
       "    <tr>\n",
       "      <th>0</th>\n",
       "      <td>Naive</td>\n",
       "      <td>9.425430</td>\n",
       "      <td>0.145815</td>\n",
       "    </tr>\n",
       "    <tr>\n",
       "      <th>1</th>\n",
       "      <td>Antithetic</td>\n",
       "      <td>9.244461</td>\n",
       "      <td>0.072533</td>\n",
       "    </tr>\n",
       "    <tr>\n",
       "      <th>2</th>\n",
       "      <td>Black-Scholes-Based/Delta/Antithetic</td>\n",
       "      <td>9.137203</td>\n",
       "      <td>0.019639</td>\n",
       "    </tr>\n",
       "    <tr>\n",
       "      <th>3</th>\n",
       "      <td>Black-Scholes-Based/Delta + Gamma/Antithetic</td>\n",
       "      <td>9.135356</td>\n",
       "      <td>0.004811</td>\n",
       "    </tr>\n",
       "  </tbody>\n",
       "</table>\n",
       "</div>"
      ],
      "text/plain": [
       "                            Type of Monte Carlo     Price    Stderr\n",
       "0                                         Naive  9.425430  0.145815\n",
       "1                                    Antithetic  9.244461  0.072533\n",
       "2          Black-Scholes-Based/Delta/Antithetic  9.137203  0.019639\n",
       "3  Black-Scholes-Based/Delta + Gamma/Antithetic  9.135356  0.004811"
      ]
     },
     "execution_count": 16,
     "metadata": {},
     "output_type": "execute_result"
    }
   ],
   "source": [
    "final = pd.DataFrame(final_table)\n",
    "final"
   ]
  },
  {
   "cell_type": "code",
   "execution_count": 19,
   "metadata": {},
   "outputs": [
    {
     "name": "stdout",
     "output_type": "stream",
     "text": [
      "\n",
      "\n",
      " As shown in the graph below, there is a major reduction in variance when using control variantes such as the Black Scholes based delta and gamma. As mentioned in the text -- this example reduces the total standard error by a factor of 90. In order to achevie this same level of variance reduction using the Naive Monte Carlo method it would require increasing the number of simulations by a factor of 8100, that would be 8.1 million simulations with a computation time of approximately 3.15 hours.Therefore, the application of these control variantes saves computational costs and time.\n",
      "\n",
      "\n"
     ]
    },
    {
     "data": {
      "image/png": "[encoded data removed]",
      "text/plain": [
       "<Figure size 432x288 with 1 Axes>"
      ]
     },
     "metadata": {
      "needs_background": "light"
     },
     "output_type": "display_data"
    }
   ],
   "source": [
    "final.plot('Type of Monte Carlo', 'Stderr', kind = 'Bar', title = \"Analysis of Variance Reduction across the different techniques.\")\n",
    "print('\\n')\n",
    "print('As shown in the graph below, there is a major reduction in variance when using control variantes such as the Black Scholes based delta and gamma. As mentioned in the text -- this example reduces the total standard error by a factor of 90. In order to achevie this same level of variance reduction using the Naive Monte Carlo method it would require increasing the number of simulations by a factor of 8100, that would be 8.1 million simulations with a computation time of approximately 3.15 hours.Therefore, the application of these control variantes saves computational costs and time.')\n",
    "print('\\n')"
   ]
  },
  {
   "cell_type": "code",
   "execution_count": null,
   "metadata": {},
   "outputs": [],
   "source": []
  }
 ],
 "metadata": {
  "kernelspec": {
   "display_name": "Python 3",
   "language": "python",
   "name": "python3"
  },
  "language_info": {
   "codemirror_mode": {
    "name": "ipython",
    "version": 3
   },
   "file_extension": ".py",
   "mimetype": "text/x-python",
   "name": "python",
   "nbconvert_exporter": "python",
   "pygments_lexer": "ipython3",
   "version": "3.7.3"
  }
 },
 "nbformat": 4,
 "nbformat_minor": 4
}
