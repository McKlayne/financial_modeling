{
 "cells": [
  {
   "cell_type": "markdown",
   "metadata": {},
   "source": [
    "# Part 1 - Program procedural versions of `EuropeanBinomial` and `AmericanBinomial`."
   ]
  },
  {
   "cell_type": "code",
   "execution_count": 2,
   "metadata": {},
   "outputs": [],
   "source": [
    "import numpy as np\n",
    "import pandas as pd\n",
    "from scipy.stats import binom"
   ]
  },
  {
   "cell_type": "markdown",
   "metadata": {},
   "source": [
    "## Problem 1\n",
    "\n",
    "### Let S = $100, K = $105, r = 8%, T = 0.5, and δ = 0.0. Let u = 1.3, d = 0.8, and n = 1."
   ]
  },
  {
   "cell_type": "code",
   "execution_count": 3,
   "metadata": {},
   "outputs": [],
   "source": [
    "spot = 100\n",
    "strike = 105\n",
    "rate = 0.08\n",
    "expiry = 0.5\n",
    "u = 1.3\n",
    "d = .8\n",
    "n = 1"
   ]
  },
  {
   "cell_type": "markdown",
   "metadata": {},
   "source": [
    "### a. What are the premium, ∆, and B for a European call?"
   ]
  },
  {
   "cell_type": "code",
   "execution_count": 4,
   "metadata": {},
   "outputs": [
    {
     "name": "stdout",
     "output_type": "stream",
     "text": [
      "The European call premium is  11.568\n",
      "The European call ∆ is  0.500\n",
      "The European call B is -38.432\n"
     ]
    }
   ],
   "source": [
    "def call_payoff(spot,strike):\n",
    "    return np.maximum(spot - strike,0.0)\n",
    "\n",
    "def single_period_model_call(spot,strike,rate,expiry,u,d):\n",
    "    Cu = call_payoff(u * spot, strike)\n",
    "    Cd = call_payoff(d * spot, strike)\n",
    "    delta = (Cu - Cd) / (spot * (u - d))\n",
    "    bond = np.exp(-rate * expiry) * ((u * Cd - d * Cu) / (u-d))\n",
    "    \n",
    "    return delta, bond\n",
    "\n",
    "output = single_period_model_call(spot, strike, rate, expiry, u, d)\n",
    "delta = output[0]\n",
    "bond = output[1]\n",
    "call_premium = delta * spot + bond\n",
    "print(f\"The European call premium is {call_premium : 0.3f}\")\n",
    "print(f\"The European call ∆ is {delta : 0.3f}\")\n",
    "print(f\"The European call B is {bond : 0.3f}\")"
   ]
  },
  {
   "cell_type": "markdown",
   "metadata": {},
   "source": [
    "### b. What are the premium, ∆, and B for a European put?"
   ]
  },
  {
   "cell_type": "code",
   "execution_count": 5,
   "metadata": {},
   "outputs": [
    {
     "name": "stdout",
     "output_type": "stream",
     "text": [
      "The European put premium is  12.451\n",
      "The European put ∆ is -0.500\n",
      "The European put B is  62.451\n"
     ]
    }
   ],
   "source": [
    "def put_payoff(spot, strike):\n",
    "    return np.maximum(strike - spot,0.0)\n",
    "\n",
    "def single_period_model_put(spot,strike,rate,expiry,u,d):\n",
    "    Cu = put_payoff(u * spot, strike)\n",
    "    Cd = put_payoff(d * spot, strike)\n",
    "    delta = (Cu - Cd) / (spot * (u - d))\n",
    "    bond = np.exp(-rate * expiry) * ((u * Cd - d * Cu) / (u-d))\n",
    "    \n",
    "    return delta, bond\n",
    "\n",
    "output = single_period_model_put(spot, strike, rate, expiry, u, d)\n",
    "delta = output[0]\n",
    "bond = output[1]\n",
    "put_premium = delta * spot + bond\n",
    "print(f\"The European put premium is {put_premium : 0.3f}\")\n",
    "print(f\"The European put ∆ is {delta : 0.3f}\")\n",
    "print(f\"The European put B is {bond : 0.3f}\")"
   ]
  },
  {
   "cell_type": "markdown",
   "metadata": {},
   "source": [
    "## Problem 2\n",
    "### Let S = $100, K = $95, r = 8%, T = 0.5, and δ = 0.0. Let u = 1.3, d = 0.8, and n = 1."
   ]
  },
  {
   "cell_type": "code",
   "execution_count": 6,
   "metadata": {},
   "outputs": [],
   "source": [
    "spot = 100\n",
    "strike = 95\n",
    "rate = 0.08\n",
    "expiry = 0.5\n",
    "u = 1.3\n",
    "d = .8\n",
    "n = 1"
   ]
  },
  {
   "cell_type": "markdown",
   "metadata": {},
   "source": [
    "### a. Verify that the price of a European put is $7.471.$"
   ]
  },
  {
   "cell_type": "code",
   "execution_count": 7,
   "metadata": {},
   "outputs": [
    {
     "name": "stdout",
     "output_type": "stream",
     "text": [
      "The European put premium is  7.471\n",
      "The European put ∆ is -0.300\n",
      "The European put B is  37.471\n"
     ]
    }
   ],
   "source": [
    "def put_payoff(spot, strike):\n",
    "    return np.maximum(strike - spot,0.0)\n",
    "\n",
    "def single_period_model_put(spot,strike,rate,expiry,u,d):\n",
    "    Cu = put_payoff(u * spot, strike)\n",
    "    Cd = put_payoff(d * spot, strike)\n",
    "    delta = (Cu - Cd) / (spot * (u - d))\n",
    "    bond = np.exp(-rate * expiry) * ((u * Cd - d * Cu) / (u-d))\n",
    "    \n",
    "    return delta, bond\n",
    "\n",
    "\n",
    "\n",
    "output = single_period_model_put(spot, strike, rate, expiry, u, d)\n",
    "delta = output[0]\n",
    "bond = output[1]\n",
    "put_premium = delta * spot + bond\n",
    "print(f\"The European put premium is {put_premium : 0.3f}\")\n",
    "print(f\"The European put ∆ is {delta : 0.3f}\")\n",
    "print(f\"The European put B is {bond : 0.3f}\")"
   ]
  },
  {
   "cell_type": "markdown",
   "metadata": {},
   "source": [
    "### b. Suppose you observe a call price of $17$. What is the arbitrage?"
   ]
  },
  {
   "cell_type": "code",
   "execution_count": 8,
   "metadata": {},
   "outputs": [
    {
     "name": "stdout",
     "output_type": "stream",
     "text": [
      "The actual price of the call is 16.196;however, if I observed a call price of 17.000 dollars one would need to purchase the synthetic call option, and sell the bond value, which would acheive earnings from the arbitrage of 0.804\n"
     ]
    }
   ],
   "source": [
    "def call_payoff(spot, strike):\n",
    "    return np.maximum(spot - strike,0.0)\n",
    "\n",
    "def single_period_model_call(spot,strike,rate,expiry,u,d):\n",
    "    Cu = call_payoff(u * spot, strike)\n",
    "    Cd = call_payoff(d * spot, strike)\n",
    "    delta = (Cu - Cd) / (spot * (u - d))\n",
    "    bond = np.exp(-rate * expiry) * ((u * Cd - d * Cu) / (u-d))\n",
    "    \n",
    "    return delta * spot + bond\n",
    "\n",
    "\n",
    "observed_call = 17\n",
    "call_premium = single_period_model_call(spot, strike, rate, expiry, u, d)\n",
    "arbitrage = abs(observed_call - call_premium)\n",
    "    \n",
    "print(f\"The actual price of the call is{call_premium : 0.3f};however, if I observed a call price of{observed_call : 0.3f} dollars one would need to purchase the synthetic call option, and sell the bond value, which would acheive earnings from the arbitrage of{arbitrage : 0.3f}\")\n"
   ]
  },
  {
   "cell_type": "markdown",
   "metadata": {},
   "source": [
    "### c. Suppose you observe a call price of $15.50$. What is the arbitrage?"
   ]
  },
  {
   "cell_type": "code",
   "execution_count": 9,
   "metadata": {},
   "outputs": [
    {
     "name": "stdout",
     "output_type": "stream",
     "text": [
      "The actual price of the call is 16.196;however, if I observed a call price of 15.500 dollars one would need to sell the synthetic call option, and buy the bond value, which would acheive earnings from the arbitrage of 0.696\n"
     ]
    }
   ],
   "source": [
    "def call_payoff(spot, strike):\n",
    "    return np.maximum(spot - strike,0.0)\n",
    "\n",
    "def single_period_model_call(spot,strike,rate,expiry,u,d):\n",
    "    Cu = call_payoff(u * spot, strike)\n",
    "    Cd = call_payoff(d * spot, strike)\n",
    "    delta = (Cu - Cd) / (spot * (u - d))\n",
    "    bond = np.exp(-rate * expiry) * ((u * Cd - d * Cu) / (u-d))\n",
    "    \n",
    "    return delta * spot + bond\n",
    "\n",
    "\n",
    "observed_call = 15.50\n",
    "call_premium = single_period_model_call(spot, strike, rate, expiry, u, d)\n",
    "arbitrage = abs(observed_call - call_premium)\n",
    "    \n",
    "print(f\"The actual price of the call is{call_premium : 0.3f};however, if I observed a call price of{observed_call : 0.3f} dollars one would need to sell the synthetic call option, and buy the bond value, which would acheive earnings from the arbitrage of{arbitrage : 0.3f}\")\n"
   ]
  },
  {
   "cell_type": "markdown",
   "metadata": {},
   "source": [
    "## Problem 3\n",
    "\n",
    "### Let S = $100, K = $95, σ = 30%, r = 8%, T = 1, and δ = 0.0. Let u = 1.3, d = 0.8, and n = 2. "
   ]
  },
  {
   "cell_type": "code",
   "execution_count": 10,
   "metadata": {},
   "outputs": [],
   "source": [
    "spot = 100\n",
    "strike = 95\n",
    "rate = 0.08\n",
    "expiry = 1\n",
    "vol = .30\n",
    "div = 0.0\n",
    "u = 1.3\n",
    "d = 0.8\n",
    "steps = 2\n",
    "h = expiry / steps"
   ]
  },
  {
   "cell_type": "markdown",
   "metadata": {},
   "source": [
    "### Construct the binomial tree for a call option. At each node provide the premium, ∆, and B."
   ]
  },
  {
   "cell_type": "code",
   "execution_count": 11,
   "metadata": {},
   "outputs": [
    {
     "name": "stdout",
     "output_type": "stream",
     "text": [
      "The premium at each node is displayed in the arary below \n",
      " [[19.99369346 38.72500328 74.        ]\n",
      " [ 0.          4.16463208  9.        ]\n",
      " [ 0.          0.          0.        ]]\n",
      "The delta at each node is displayed in the array below \n",
      " [[0.69120742 1.         0.        ]\n",
      " [0.         0.225      0.        ]\n",
      " [0.         0.         0.        ]]\n",
      "The bond at each node is displayed in the array below \n",
      " [[-49.12704895 -91.27499672   0.        ]\n",
      " [  0.         -13.83536792   0.        ]\n",
      " [  0.           0.           0.        ]]\n"
     ]
    }
   ],
   "source": [
    "def call_payoff(spot,strike):\n",
    "    return np.maximum(spot - strike,0.0)\n",
    "\n",
    "def european_binomial(spot, strike, rate, vol, expiry, div, steps, u, d):\n",
    "   \n",
    "    #Establishes needed numbers\n",
    "    call_t = 0.0\n",
    "    spot_t = 0.0\n",
    "    h = expiry / steps\n",
    "    num_nodes = steps + 1\n",
    "    disc = np.exp(-rate * h) \n",
    "    \n",
    "    #Creating the buckets/arrays for spot, premium, delta, bond\n",
    "    spot_t = np.zeros((num_nodes, num_nodes))\n",
    "    prc_t = np.zeros((num_nodes, num_nodes))\n",
    "    del_t = np.zeros((num_nodes, num_nodes))\n",
    "    bond_t = np.zeros((num_nodes, num_nodes))\n",
    "    \n",
    "    for j in range(num_nodes):\n",
    "        spot_t[j,-1] = spot * (u ** (steps - j)) * (d ** (j))\n",
    "        prc_t[j, -1] = call_payoff(spot_t[j, -1],strike)\n",
    "        \n",
    "\n",
    "    for i in range((steps - 1), -1, -1):\n",
    "        for j in range(i+1):\n",
    "            spot_t[j,i] = spot_t[j,i+1] / u\n",
    "            del_t[j,i] = (prc_t[j,i+1] - prc_t[j+1, i+1]) / (spot_t[j,i] * (u - d))\n",
    "            bond_t[j,i] = disc * (u * prc_t[j+1,i+1] - d * prc_t[j,i+1])/ (u - d)\n",
    "            prc_t[j,i] = del_t[j,i] * spot_t[j,i] + bond_t[j,i]\n",
    "            \n",
    "    print(f\"The premium at each node is displayed in the arary below \\n\",prc_t)\n",
    "    print(f\"The delta at each node is displayed in the array below \\n\", del_t)\n",
    "    print(f\"The bond at each node is displayed in the array below \\n\",bond_t)\n",
    "    \n",
    "    return()\n",
    "\n",
    "results = european_binomial(spot, strike, rate, vol, expiry, div, steps ,u,d)"
   ]
  },
  {
   "cell_type": "markdown",
   "metadata": {},
   "source": [
    "## Problem 4\n",
    "### Repeat the option price calculation in the previous question for stock prices of $80$, $90$, $110$, $120$, and $130$ , but now let n = 3. Keep everyting else fixed. What happens to the initial option ∆ as the stock price increases?"
   ]
  },
  {
   "cell_type": "code",
   "execution_count": 12,
   "metadata": {},
   "outputs": [],
   "source": [
    "spot = 100\n",
    "strike = 95\n",
    "rate = 0.08\n",
    "expiry = 1\n",
    "vol = .30\n",
    "div = 0.0\n",
    "u = 1.3\n",
    "d = 0.8\n",
    "steps = 3\n",
    "h = expiry / steps"
   ]
  },
  {
   "cell_type": "code",
   "execution_count": 13,
   "metadata": {},
   "outputs": [],
   "source": [
    "def call_payoff(spot,strike):\n",
    "    return np.maximum(spot - strike,0.0)\n",
    "\n",
    "def european_binomial_four(spot, strike, rate, vol, expiry, div, steps, u, d):\n",
    "   \n",
    "    #Establishes needed numbers\n",
    "    call_t = 0.0\n",
    "    spot_t = 0.0\n",
    "    h = expiry / steps\n",
    "    num_nodes = steps + 1\n",
    "    disc = np.exp(-rate * h) \n",
    "    \n",
    "    #Creating the buckets/arrays for spot, premium, delta, bond\n",
    "    spot_t = np.zeros((num_nodes, num_nodes))\n",
    "    prc_t = np.zeros((num_nodes, num_nodes))\n",
    "    del_t = np.zeros((num_nodes, num_nodes))\n",
    "    bond_t = np.zeros((num_nodes, num_nodes))\n",
    "    \n",
    "    for j in range(num_nodes):\n",
    "        spot_t[j,-1] = spot * (u ** (steps - j)) * (d ** (j))\n",
    "        prc_t[j, -1] = call_payoff(spot_t[j, -1],strike)\n",
    "        \n",
    "\n",
    "    for i in range((steps - 1), -1, -1):\n",
    "        for j in range(i+1):\n",
    "            spot_t[j,i] = spot_t[j,i+1] / u\n",
    "            del_t[j,i] = (prc_t[j,i+1] - prc_t[j+1, i+1]) / (spot_t[j,i] * (u - d))\n",
    "            bond_t[j,i] = disc * (u * prc_t[j+1,i+1] - d * prc_t[j,i+1])/ (u - d)\n",
    "            prc_t[j,i] = del_t[j,i] * spot_t[j,i] + bond_t[j,i]\n",
    "            \n",
    "    return (prc_t[0,0], del_t[0,0])"
   ]
  },
  {
   "cell_type": "code",
   "execution_count": 14,
   "metadata": {},
   "outputs": [
    {
     "name": "stdout",
     "output_type": "stream",
     "text": [
      "(80.00, 11.08, 0.48)\n",
      "(90.00, 17.19, 0.61)\n",
      "(110.00, 29.42, 0.79)\n",
      "(120.00, 37.35, 0.84)\n",
      "(130.00, 46.58, 0.88)\n",
      "A: As the stock price increases, the delta increases\n"
     ]
    }
   ],
   "source": [
    "prices = [80, 90, 110, 120, 130]\n",
    "\n",
    "#prices[0]\n",
    "\n",
    "for i in range(len(prices)):\n",
    "    prc, delta = european_binomial_four(prices[i], strike, rate, vol, expiry, div, steps ,u,d)\n",
    "    print(f\"({prices[i]:0.2f}, {prc:0.2f}, {delta:0.2f})\")\n",
    "\n",
    "print('A: As the stock price increases, the delta increases')"
   ]
  },
  {
   "cell_type": "markdown",
   "metadata": {},
   "source": [
    "## Problem 5\n",
    "### Let S = $100$, K = $95$, r = 8% (continuously compounded), σ = 30%, δ = 0, and T = 1 year and n = 3.\n"
   ]
  },
  {
   "cell_type": "code",
   "execution_count": 15,
   "metadata": {},
   "outputs": [],
   "source": [
    "spot = 100\n",
    "strike = 95\n",
    "rate = 0.08\n",
    "expiry = 1\n",
    "vol = .30\n",
    "div = 0.0\n",
    "u = 1.3\n",
    "d = 0.8\n",
    "steps = 3\n",
    "h = expiry / steps"
   ]
  },
  {
   "cell_type": "markdown",
   "metadata": {},
   "source": [
    "### a. What is the premium for an American call option? Is there any early exercise?"
   ]
  },
  {
   "cell_type": "code",
   "execution_count": 16,
   "metadata": {},
   "outputs": [
    {
     "name": "stdout",
     "output_type": "stream",
     "text": [
      "The premium for this american call option is: 23.3059\n",
      "There were no early excersised prices\n"
     ]
    }
   ],
   "source": [
    "def call_payoff(spot,strike):\n",
    "    return np.maximum(spot - strike,0.0)\n",
    "\n",
    "def american_binomial(spot, strike, rate, vol, div, steps, u, d):\n",
    "    \n",
    "    call_t = 0.0\n",
    "    spot_t = 0.0\n",
    "    h = expiry / steps\n",
    "    num_nodes = steps + 1\n",
    "#   u = np.exp((rate - div) * h + vol * np.sqrt(h))\n",
    "#   d = np.exp((rate - div) * h - vol * np.sqrt(h))\n",
    "    pstar = (np.exp(rate * h) - d) / ( u - d)\n",
    "    disc = np.exp(-rate * h) \n",
    "    spot_t = np.zeros(num_nodes)\n",
    "    prc_t = np.zeros(num_nodes)\n",
    "    early_exercise = -1\n",
    "    \n",
    "    for i in range(num_nodes):\n",
    "        spot_t[i] = spot * (u ** (steps - i)) * (d ** (i))\n",
    "        prc_t[i] = call_payoff(spot_t[i], strike)\n",
    "\n",
    "\n",
    "    for i in range((steps - 1), -1, -1):\n",
    "        for j in range(i+1):\n",
    "            prc_t[j] = disc * (pstar * prc_t[j] + (1 - pstar) * prc_t[j+1])\n",
    "            spot_t[j] = spot_t[j] / u\n",
    "            \n",
    "            if prc_t[j] > call_payoff(spot_t[j],strike):\n",
    "                prc_t[j] = prc_t[j]\n",
    "                \n",
    "            else:\n",
    "                prc_t[j] = call_payoff(spot_t[j],strike)\n",
    "                early_exercise += 1\n",
    "                    \n",
    "    return prc_t[0],early_exercise\n",
    "\n",
    "results,early = american_binomial(spot, strike, rate, vol, div, steps, u, d)\n",
    "print(f\"The premium for this american call option is:{results: 0.4f}\")\n",
    "if early > 0:\n",
    "    print(f\"Yes, there were\",early,\"early excersised prices\")\n",
    "else:\n",
    "    print(\"There were no early excersised prices\")"
   ]
  },
  {
   "cell_type": "markdown",
   "metadata": {},
   "source": [
    "### b. What is the premium for a European call option? Use the computational shortcut with the risk-neutral binomial pmf that I showed you in class. Compare the American and European premia."
   ]
  },
  {
   "cell_type": "code",
   "execution_count": 27,
   "metadata": {},
   "outputs": [
    {
     "name": "stdout",
     "output_type": "stream",
     "text": [
      "The premium for an European call option is:  4.3774\n",
      "The premium for an American call option is:  4.3774\n",
      "There is no major difference between the two\n",
      "\n",
      "\n",
      "This reason why the two put prices differ is because it makes sense to excersise early with a non-dividend american put option \n",
      "because it can be optimal to early-exercise a put to receive the strike price earlier.\n"
     ]
    }
   ],
   "source": [
    "def call_payoff(spot,strike):\n",
    "    return np.maximum(spot - strike,0.0)\n",
    "\n",
    "def european_binomial_pmf(spot, strike, rate, vol, div, steps):\n",
    "    call_t = 0.0\n",
    "    spot_t = 0.0\n",
    "    h = expiry / steps\n",
    "    num_nodes = steps + 1\n",
    "    u = np.exp((rate - div) * h + vol * np.sqrt(h))\n",
    "    d = np.exp((rate - div) * h - vol * np.sqrt(h))\n",
    "    pstar = (np.exp(rate * h) - d) / ( u - d)\n",
    "    \n",
    "    for i in range(num_nodes):\n",
    "        spot_t = spot * (u ** (steps - i)) * (d ** (i))\n",
    "        call_t += call_payoff(spot_t, strike) * binom.pmf(steps - i, steps, pstar)\n",
    "\n",
    "    call_t *= np.exp(-rate * expiry)\n",
    "    \n",
    "    return call_t\n",
    "\n",
    "\n",
    "def american_binomial_pmf(spot, strike, rate, vol, div, steps):\n",
    "    \n",
    "    call_t = 0.0\n",
    "    spot_t = 0.0\n",
    "    h = expiry / steps\n",
    "    num_nodes = steps + 1\n",
    "    u = np.exp((rate - div) * h + vol * np.sqrt(h))\n",
    "    d = np.exp((rate - div) * h - vol * np.sqrt(h))\n",
    "    pstar = (np.exp(rate * h) - d) / ( u - d)\n",
    "    disc = np.exp(-rate * h) \n",
    "    spot_t = np.zeros(num_nodes)\n",
    "    prc_t = np.zeros(num_nodes)\n",
    "    early_exercise = -1\n",
    "    \n",
    "    for i in range(num_nodes):\n",
    "        spot_t[i] = spot * (u ** (steps - i)) * (d ** (i))\n",
    "        prc_t[i] = call_payoff(spot_t[i], strike)\n",
    "\n",
    "\n",
    "    for i in range((steps - 1), -1, -1):\n",
    "        for j in range(i+1):\n",
    "            prc_t[j] = disc * (pstar * prc_t[j] + (1 - pstar) * prc_t[j+1])\n",
    "            spot_t[j] = spot_t[j] / u\n",
    "            if prc_t[j] > call_payoff(spot_t[j],strike):\n",
    "                prc_t[j] = prc_t[j]\n",
    "            else:\n",
    "                prc_t[j] = call_payoff(spot_t[j],strike)\n",
    "                early_exercise += 1\n",
    "                \n",
    "                    \n",
    "    return prc_t[0]\n",
    "\n",
    "european_call = european_binomial_pmf(spot, strike, rate, vol, div, steps)\n",
    "american_call = american_binomial_pmf(spot, strike, rate, vol, div, steps)\n",
    "\n",
    "\n",
    "print(f\"The premium for an European call option is: {european_call: 0.4f}\")\n",
    "print(f\"The premium for an American call option is: {european_call: 0.4f}\")\n",
    "print(\"There is no major difference between the two\")\n",
    "print('\\n')\n",
    "print(\"This reason why the two put prices differ is because it makes sense to excersise early with a non-dividend american put option \\nbecause it can be optimal to early-exercise a put to receive the strike price earlier.\")"
   ]
  },
  {
   "cell_type": "markdown",
   "metadata": {},
   "source": [
    "### c. What is the premium for a European put? Does put-call parity hold? (see McDonald Chapter 9). Also use the risk-neutral binomial pmf for this problem."
   ]
  },
  {
   "cell_type": "code",
   "execution_count": 21,
   "metadata": {},
   "outputs": [
    {
     "name": "stdout",
     "output_type": "stream",
     "text": [
      "The premium for a European put is: 5.9786\n",
      "Put-call parity holds because the expected european call price is: 5.9786 \n"
     ]
    }
   ],
   "source": [
    "def put_payoff(spot,strike):\n",
    "    return np.maximum(strike - spot,0.0)\n",
    "\n",
    "def european_binomial_put(spot, strike, rate, vol, div, steps):\n",
    "    put_t = 0.0\n",
    "    spot_t = 0.0\n",
    "    h = expiry / steps\n",
    "    num_nodes = steps + 1\n",
    "    u = np.exp((rate - div) * h + vol * np.sqrt(h))\n",
    "    d = np.exp((rate - div) * h - vol * np.sqrt(h))\n",
    "    pstar = (np.exp(rate * h) - d) / ( u - d)\n",
    "    \n",
    "    for i in range(num_nodes):\n",
    "        spot_t = spot * (u ** (steps - i)) * (d ** (i))\n",
    "        put_t += put_payoff(spot_t, strike) * binom.pmf(steps - i, steps, pstar)\n",
    "\n",
    "    put_t *= np.exp(-rate * expiry)\n",
    "    \n",
    "    return put_t\n",
    "\n",
    "european_put = european_binomial_put(spot, strike, rate, vol, div, steps)\n",
    "put_parity = spot - ((np.exp(-rate*expiry)) * strike) - european_call\n",
    "\n",
    "print(f'The premium for a European put is: {european_put:0.4f}')\n",
    "print(f'Put-call parity holds because the expected european call price is: {-put_parity:0.4f} ')"
   ]
  },
  {
   "cell_type": "markdown",
   "metadata": {},
   "source": [
    "### d. What is the premium of the American put? Compare with the European put. If they differ, explain why."
   ]
  },
  {
   "cell_type": "code",
   "execution_count": 22,
   "metadata": {},
   "outputs": [
    {
     "name": "stdout",
     "output_type": "stream",
     "text": [
      "There is 1 excersised prices\n",
      "The premium for an American put is: 6.6779\n",
      "The premium for an European put is: 5.9786\n",
      "The european put and the american put differ by 0.6993\n",
      "This occurs because the american option offers the right to excercise early.\n"
     ]
    }
   ],
   "source": [
    "def put_payoff(spot,strike):\n",
    "    return np.maximum(strike - spot,0.0)\n",
    "\n",
    "def american_binomial_put(spot, strike, rate, vol, div, steps):\n",
    "    \n",
    "    call_t = 0.0\n",
    "    spot_t = 0.0\n",
    "    h = expiry / steps\n",
    "    num_nodes = steps + 1\n",
    "    u = np.exp((rate - div) * h + vol * np.sqrt(h))\n",
    "    d = np.exp((rate - div) * h - vol * np.sqrt(h))\n",
    "    pstar = (np.exp(rate * h) - d) / ( u - d)\n",
    "    disc = np.exp(-rate * h) \n",
    "    spot_t = np.zeros(num_nodes)\n",
    "    prc_t = np.zeros(num_nodes)\n",
    "    early_exercise = -1 \n",
    "    \n",
    "    for i in range(num_nodes):\n",
    "        spot_t[i] = spot * (u ** (steps - i)) * (d ** (i))\n",
    "        prc_t[i] = put_payoff(spot_t[i], strike)\n",
    "\n",
    "\n",
    "    for i in range((steps - 1), -1, -1):\n",
    "        for j in range(i+1):\n",
    "            prc_t[j] = disc * (pstar * prc_t[j] + (1 - pstar) * prc_t[j+1])\n",
    "            spot_t[j] = spot_t[j] / u\n",
    "            if prc_t[j] > put_payoff(spot_t[j],strike):\n",
    "                prc_t[j] = prc_t[j]\n",
    "            else:\n",
    "                prc_t[j] = put_payoff(spot_t[j],strike)\n",
    "                early_exercise += 1\n",
    "                \n",
    "                    \n",
    "    return prc_t[0], early_exercise\n",
    "\n",
    "results = american_binomial_put(spot, strike, rate, vol, div, steps)\n",
    "american_put = results[0]\n",
    "early = results[1]\n",
    "diff = american_put - european_put\n",
    "\n",
    "print(f'There is {early} excersised prices')\n",
    "print(f'The premium for an American put is: {american_put:0.4f}')\n",
    "print(f'The premium for an European put is: {european_put:0.4f}')\n",
    "print(f'The european put and the american put differ by {diff:0.4f}\\nThis occurs because the american option offers the right to excercise early.')"
   ]
  },
  {
   "cell_type": "markdown",
   "metadata": {},
   "source": [
    "#### Problem 6\n",
    "\n",
    "Let S = $40, K = $40, r = 8% (continuously compounded), σ = 30%, δ = 0.0, T = 0.5 year, and n = 3.\n",
    "\n",
    "\n"
   ]
  },
  {
   "cell_type": "code",
   "execution_count": 23,
   "metadata": {},
   "outputs": [],
   "source": [
    "spot = 40\n",
    "strike = 40\n",
    "rate = 0.08\n",
    "expiry = 0.5\n",
    "vol = .30\n",
    "div = 0.0\n",
    "steps = 3\n",
    "h = expiry / steps"
   ]
  },
  {
   "cell_type": "markdown",
   "metadata": {},
   "source": [
    "### a. Construct the binomial tree for the stock. What are u and d?"
   ]
  },
  {
   "cell_type": "code",
   "execution_count": 24,
   "metadata": {},
   "outputs": [
    {
     "name": "stdout",
     "output_type": "stream",
     "text": [
      "u is: 1.1455\n",
      "d is: 0.8966\n"
     ]
    }
   ],
   "source": [
    "u = np.exp((rate - div) * h + vol * np.sqrt(h))\n",
    "d = np.exp((rate - div) * h - vol * np.sqrt(h))\n",
    "print(f'u is: {u:0.4f}')\n",
    "print(f'd is: {d:0.4f}')"
   ]
  },
  {
   "cell_type": "code",
   "execution_count": 25,
   "metadata": {},
   "outputs": [],
   "source": [
    "def call_payoff(spot,strike):\n",
    "    return np.maximum(spot - strike,0.0)\n",
    "\n",
    "def put_payoff(spot,strike):\n",
    "    return np.maximum(strike - spot,0.0)\n",
    "\n",
    "def european_binomial_call(spot, strike, rate, vol, div, steps):\n",
    "    call_t = 0.0\n",
    "    spot_t = 0.0\n",
    "    h = expiry / steps\n",
    "    num_nodes = steps + 1\n",
    "    u = np.exp((rate - div) * h + vol * np.sqrt(h))\n",
    "    d = np.exp((rate - div) * h - vol * np.sqrt(h))\n",
    "    pstar = (np.exp(rate * h) - d) / ( u - d)\n",
    "    \n",
    "    for i in range(num_nodes):\n",
    "        spot_t = spot * (u ** (steps - i)) * (d ** (i))\n",
    "        call_t += call_payoff(spot_t, strike) * binom.pmf(steps - i, steps, pstar)\n",
    "\n",
    "    call_t *= np.exp(-rate * expiry)\n",
    "    \n",
    "    return call_t\n",
    "\n",
    "def european_binomial_put(spot, strike, rate, vol, div, steps):\n",
    "    put_t = 0.0\n",
    "    spot_t = 0.0\n",
    "    h = expiry / steps\n",
    "    num_nodes = steps + 1\n",
    "    u = np.exp((rate - div) * h + vol * np.sqrt(h))\n",
    "    d = np.exp((rate - div) * h - vol * np.sqrt(h))\n",
    "    pstar = (np.exp(rate * h) - d) / ( u - d)\n",
    "    \n",
    "    for i in range(num_nodes):\n",
    "        spot_t = spot * (u ** (steps - i)) * (d ** (i))\n",
    "        put_t += put_payoff(spot_t, strike) * binom.pmf(steps - i, steps, pstar)\n",
    "\n",
    "    put_t *= np.exp(-rate * expiry)\n",
    "    \n",
    "    return put_t\n",
    "\n",
    "\n",
    "def american_binomial_call(spot, strike, rate, vol, div, steps):\n",
    "    \n",
    "    call_t = 0.0\n",
    "    spot_t = 0.0\n",
    "    h = expiry / steps\n",
    "    num_nodes = steps + 1\n",
    "    u = np.exp((rate - div) * h + vol * np.sqrt(h))\n",
    "    d = np.exp((rate - div) * h - vol * np.sqrt(h))\n",
    "    pstar = (np.exp(rate * h) - d) / ( u - d)\n",
    "    disc = np.exp(-rate * h) \n",
    "    spot_t = np.zeros(num_nodes)\n",
    "    prc_t = np.zeros(num_nodes)\n",
    "    early_exercise = 0 \n",
    "    \n",
    "    for i in range(num_nodes):\n",
    "        spot_t[i] = spot * (u ** (steps - i)) * (d ** (i))\n",
    "        prc_t[i] = call_payoff(spot_t[i], strike)\n",
    "\n",
    "\n",
    "    for i in range((steps - 1), -1, -1):\n",
    "        for j in range(i+1):\n",
    "            prc_t[j] = disc * (pstar * prc_t[j] + (1 - pstar) * prc_t[j+1])\n",
    "            spot_t[j] = spot_t[j] / u\n",
    "            if prc_t[j] > call_payoff(spot_t[j],strike):\n",
    "                prc_t[j] = prc_t[j]\n",
    "                early_exercise += 1\n",
    "            else:\n",
    "                prc_t[j] = call_payoff(spot_t[j],strike)\n",
    "                \n",
    "                    \n",
    "    return prc_t[0]\n",
    "\n",
    "def american_binomial_put(spot, strike, rate, vol, div, steps):\n",
    "    \n",
    "    call_t = 0.0\n",
    "    spot_t = 0.0\n",
    "    h = expiry / steps\n",
    "    num_nodes = steps + 1\n",
    "    u = np.exp((rate - div) * h + vol * np.sqrt(h))\n",
    "    d = np.exp((rate - div) * h - vol * np.sqrt(h))\n",
    "    pstar = (np.exp(rate * h) - d) / ( u - d)\n",
    "    disc = np.exp(-rate * h) \n",
    "    spot_t = np.zeros(num_nodes)\n",
    "    prc_t = np.zeros(num_nodes)\n",
    "    early_exercise = 0 \n",
    "    \n",
    "    for i in range(num_nodes):\n",
    "        spot_t[i] = spot * (u ** (steps - i)) * (d ** (i))\n",
    "        prc_t[i] = put_payoff(spot_t[i], strike)\n",
    "\n",
    "\n",
    "    for i in range((steps - 1), -1, -1):\n",
    "        for j in range(i+1):\n",
    "            prc_t[j] = disc * (pstar * prc_t[j] + (1 - pstar) * prc_t[j+1])\n",
    "            spot_t[j] = spot_t[j] / u\n",
    "            if prc_t[j] > put_payoff(spot_t[j],strike):\n",
    "                prc_t[j] = prc_t[j]\n",
    "                early_exercise += 1\n",
    "            else:\n",
    "                prc_t[j] = put_payoff(spot_t[j],strike)\n",
    "                \n",
    "                    \n",
    "    return prc_t[0]"
   ]
  },
  {
   "cell_type": "markdown",
   "metadata": {},
   "source": [
    "### b. Compute the premia of American and European calls and puts."
   ]
  },
  {
   "cell_type": "code",
   "execution_count": 26,
   "metadata": {},
   "outputs": [
    {
     "name": "stdout",
     "output_type": "stream",
     "text": [
      "The premia of an American call is 4.3774\n",
      "The premia of an European call is 4.3774\n",
      "The premia of an American put is 2.9542\n",
      "The premia of an European put is 2.8090\n"
     ]
    }
   ],
   "source": [
    "american_call = american_binomial_call(spot, strike, rate, vol, div, steps)\n",
    "american_put = american_binomial_put(spot, strike, rate, vol, div, steps)\n",
    "european_call = european_binomial_call(spot, strike, rate, vol, div, steps)\n",
    "european_put = european_binomial_put(spot, strike, rate, vol, div, steps)\n",
    "\n",
    "\n",
    "type_option = ('American call', 'European call','American put', 'European put')\n",
    "option = (american_call, european_call, american_put,  european_put)\n",
    "\n",
    "for i in range(len(option)):\n",
    "    print(f'The premia of an {type_option[i]} is {option[i]:0.4f}')"
   ]
  }
 ],
 "metadata": {
  "anaconda-cloud": {},
  "kernelspec": {
   "display_name": "Python 3",
   "language": "python",
   "name": "python3"
  },
  "language_info": {
   "codemirror_mode": {
    "name": "ipython",
    "version": 3
   },
   "file_extension": ".py",
   "mimetype": "text/x-python",
   "name": "python",
   "nbconvert_exporter": "python",
   "pygments_lexer": "ipython3",
   "version": "3.7.3"
  }
 },
 "nbformat": 4,
 "nbformat_minor": 4
}
